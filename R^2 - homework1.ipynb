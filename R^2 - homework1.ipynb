{
 "cells": [
  {
   "cell_type": "code",
   "execution_count": 15,
   "id": "ee7c287a",
   "metadata": {},
   "outputs": [
    {
     "name": "stdout",
     "output_type": "stream",
     "text": [
      "10\n",
      "20\n",
      "30\n",
      "40\n",
      "50\n",
      "60\n",
      "70\n",
      "80\n",
      "90\n",
      "100\n",
      "110\n",
      "120\n",
      "130\n",
      "140\n",
      "150\n",
      "160\n",
      "170\n",
      "180\n",
      "190\n",
      "200\n",
      "Execution time: 69.89297437667847\n"
     ]
    },
    {
     "data": {
      "text/plain": [
       "<function matplotlib.pyplot.show(close=None, block=None)>"
      ]
     },
     "execution_count": 15,
     "metadata": {},
     "output_type": "execute_result"
    },
    {
     "data": {
      "image/png": "[encoded data removed]",
      "text/plain": [
       "<Figure size 432x288 with 1 Axes>"
      ]
     },
     "metadata": {
      "needs_background": "light"
     },
     "output_type": "display_data"
    }
   ],
   "source": [
    "import numpy as np\n",
    "import time\n",
    "import statistics as st\n",
    "import matplotlib.pyplot as plt\n",
    "from sklearn import linear_model\n",
    "\n",
    "\n",
    "sizes =list(range(10,210,10))\n",
    "reps = 10000\n",
    "\n",
    "def sim_r_squared(n):\n",
    "    x = np.random.normal(size=n)\n",
    "    y = x+1+np.random.normal(size=n)\n",
    "    lm = linear_model.LinearRegression()\n",
    "    lm.fit(X=x.reshape(-1,1),y=y)\n",
    "    return lm.score(X=x.reshape(-1,1), y=y)\n",
    "\n",
    "r_squared_mean = []\n",
    "r_squared_q95 = []\n",
    "r_squared_q5 = []\n",
    "\n",
    "start_time = time.time()\n",
    "\n",
    "for size in sizes:\n",
    "    print(size)\n",
    "    result = []\n",
    "    for i in range(reps):\n",
    "        result.append(sim_r_squared(size))\n",
    "    r_squared_mean.append(st.mean(result))\n",
    "    r_squared_q95.append(np.quantile(result,0.95))\n",
    "    r_squared_q5.append(np.quantile(result,0.05))\n",
    "\n",
    "exec_time = time.time()-start_time\n",
    "\n",
    "print(\"Execution time: \" + str(exec_time))\n",
    "plt.scatter(sizes, r_squared_mean)\n",
    "plt.plot(sizes, r_squared_q5)\n",
    "plt.plot(sizes, r_squared_q95)\n",
    "plt.ylim(min(r_squared_q5), max(r_squared_q95))\n",
    "plt.xlabel(\"Sample Size\")\n",
    "plt.ylabel(\"R^2\")\n",
    "plt.show\n",
    "\n",
    "\n",
    "\n",
    "print(\"Python is more effective than R in this case because execution time is faster.\")"
   ]
  },
  {
   "cell_type": "code",
   "execution_count": null,
   "id": "d12517f8",
   "metadata": {},
   "outputs": [],
   "source": []
  }
 ],
 "metadata": {
  "kernelspec": {
   "display_name": "Python 3 (ipykernel)",
   "language": "python",
   "name": "python3"
  },
  "language_info": {
   "codemirror_mode": {
    "name": "ipython",
    "version": 3
   },
   "file_extension": ".py",
   "mimetype": "text/x-python",
   "name": "python",
   "nbconvert_exporter": "python",
   "pygments_lexer": "ipython3",
   "version": "3.9.7"
  }
 },
 "nbformat": 4,
 "nbformat_minor": 5
}
